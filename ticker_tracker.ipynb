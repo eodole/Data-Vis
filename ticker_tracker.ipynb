{
 "cells": [
  {
   "attachments": {},
   "cell_type": "markdown",
   "metadata": {},
   "source": [
    "## Table of Contents \n",
    "1. Movtivation \n",
    "2. Data Collection \n",
    "3. Data Cleaning \n",
    "4. Visualization "
   ]
  },
  {
   "attachments": {},
   "cell_type": "markdown",
   "metadata": {},
   "source": [
    "## Motivation \n",
    "\n",
    "This is a showcase of my abilities of designing and convieving an end-to-end data visualization "
   ]
  },
  {
   "attachments": {},
   "cell_type": "markdown",
   "metadata": {},
   "source": [
    "As in any project, first and foremost is using the right tools "
   ]
  },
  {
   "cell_type": "code",
   "execution_count": 1,
   "metadata": {},
   "outputs": [],
   "source": [
    "import pandas as pd \n",
    "import yfinance as yf \n",
    "import yahooquery as yq\n",
    "import data_cleaning \n",
    "import re "
   ]
  },
  {
   "attachments": {},
   "cell_type": "markdown",
   "metadata": {},
   "source": [
    "### Data Collection\n",
    "\n",
    "First I wanted to find any all stocks related to AI, I began by using sceeners from Yahoo! Finance, relating to Inforation Technology Services, Most Visited Technology and a Market Scan for Technology"
   ]
  },
  {
   "cell_type": "code",
   "execution_count": 2,
   "metadata": {},
   "outputs": [],
   "source": [
    "techSceener = yq.Screener()\n",
    "raw_data = techSceener.get_screeners(['information_technology_services', 'most_visited_technology', 'ms_technology'])"
   ]
  },
  {
   "attachments": {},
   "cell_type": "markdown",
   "metadata": {},
   "source": [
    "I then processed the raw data from the scanners to extract the tickers related to those scanners. "
   ]
  },
  {
   "cell_type": "code",
   "execution_count": 3,
   "metadata": {},
   "outputs": [
    {
     "data": {
      "text/plain": [
       "['MCHP', 'JKHY', 'ACN', 'ENPH', 'TOST', 'LDOS', 'ORCL', 'IBM', 'LRCX', 'AVGO']"
      ]
     },
     "execution_count": 3,
     "metadata": {},
     "output_type": "execute_result"
    }
   ],
   "source": [
    "tech_tickers = data_cleaning.find_tickers(raw_data)\n",
    "tech_tickers[0:10]"
   ]
  },
  {
   "attachments": {},
   "cell_type": "markdown",
   "metadata": {},
   "source": [
    "Next I used the tickers from the Scanners and gathered the business descriptions data."
   ]
  },
  {
   "cell_type": "code",
   "execution_count": 4,
   "metadata": {},
   "outputs": [],
   "source": [
    "\n",
    "Tickers = yf.Tickers(tech_tickers)\n",
    "\n",
    "descriptionDF = data_cleaning.get_ticker_descrition(Tickers)"
   ]
  },
  {
   "cell_type": "code",
   "execution_count": 5,
   "metadata": {},
   "outputs": [
    {
     "data": {
      "text/html": [
       "<div>\n",
       "<style scoped>\n",
       "    .dataframe tbody tr th:only-of-type {\n",
       "        vertical-align: middle;\n",
       "    }\n",
       "\n",
       "    .dataframe tbody tr th {\n",
       "        vertical-align: top;\n",
       "    }\n",
       "\n",
       "    .dataframe thead th {\n",
       "        text-align: right;\n",
       "    }\n",
       "</style>\n",
       "<table border=\"1\" class=\"dataframe\">\n",
       "  <thead>\n",
       "    <tr style=\"text-align: right;\">\n",
       "      <th></th>\n",
       "      <th>Symbol</th>\n",
       "      <th>Description</th>\n",
       "    </tr>\n",
       "  </thead>\n",
       "  <tbody>\n",
       "    <tr>\n",
       "      <th>0</th>\n",
       "      <td>MCHP</td>\n",
       "      <td>Microchip Technology Incorporated develops, ma...</td>\n",
       "    </tr>\n",
       "    <tr>\n",
       "      <th>1</th>\n",
       "      <td>JKHY</td>\n",
       "      <td>Jack Henry &amp; Associates, Inc., a financial tec...</td>\n",
       "    </tr>\n",
       "    <tr>\n",
       "      <th>2</th>\n",
       "      <td>ACN</td>\n",
       "      <td>Accenture plc, a professional services company...</td>\n",
       "    </tr>\n",
       "    <tr>\n",
       "      <th>3</th>\n",
       "      <td>ENPH</td>\n",
       "      <td>Enphase Energy, Inc., together with its subsid...</td>\n",
       "    </tr>\n",
       "    <tr>\n",
       "      <th>4</th>\n",
       "      <td>TOST</td>\n",
       "      <td>Toast, Inc. operates a cloud-based digital tec...</td>\n",
       "    </tr>\n",
       "    <tr>\n",
       "      <th>...</th>\n",
       "      <td>...</td>\n",
       "      <td>...</td>\n",
       "    </tr>\n",
       "    <tr>\n",
       "      <th>62</th>\n",
       "      <td>MSFT</td>\n",
       "      <td>Microsoft Corporation develops, licenses, and ...</td>\n",
       "    </tr>\n",
       "    <tr>\n",
       "      <th>63</th>\n",
       "      <td>FI</td>\n",
       "      <td>Fiserv, Inc., together with its subsidiaries, ...</td>\n",
       "    </tr>\n",
       "    <tr>\n",
       "      <th>64</th>\n",
       "      <td>SHOP</td>\n",
       "      <td>Shopify Inc., a commerce company, provides a c...</td>\n",
       "    </tr>\n",
       "    <tr>\n",
       "      <th>65</th>\n",
       "      <td>BR</td>\n",
       "      <td>Broadridge Financial Solutions, Inc. provides ...</td>\n",
       "    </tr>\n",
       "    <tr>\n",
       "      <th>66</th>\n",
       "      <td>ANET</td>\n",
       "      <td>Arista Networks, Inc. develops, markets, and s...</td>\n",
       "    </tr>\n",
       "  </tbody>\n",
       "</table>\n",
       "<p>67 rows × 2 columns</p>\n",
       "</div>"
      ],
      "text/plain": [
       "   Symbol                                        Description\n",
       "0    MCHP  Microchip Technology Incorporated develops, ma...\n",
       "1    JKHY  Jack Henry & Associates, Inc., a financial tec...\n",
       "2     ACN  Accenture plc, a professional services company...\n",
       "3    ENPH  Enphase Energy, Inc., together with its subsid...\n",
       "4    TOST  Toast, Inc. operates a cloud-based digital tec...\n",
       "..    ...                                                ...\n",
       "62   MSFT  Microsoft Corporation develops, licenses, and ...\n",
       "63     FI  Fiserv, Inc., together with its subsidiaries, ...\n",
       "64   SHOP  Shopify Inc., a commerce company, provides a c...\n",
       "65     BR  Broadridge Financial Solutions, Inc. provides ...\n",
       "66   ANET  Arista Networks, Inc. develops, markets, and s...\n",
       "\n",
       "[67 rows x 2 columns]"
      ]
     },
     "execution_count": 5,
     "metadata": {},
     "output_type": "execute_result"
    }
   ],
   "source": [
    "descriptionDF"
   ]
  },
  {
   "attachments": {},
   "cell_type": "markdown",
   "metadata": {},
   "source": [
    "In my initial investigation I used the following keywords to determine if a company is an AI company."
   ]
  },
  {
   "cell_type": "code",
   "execution_count": 6,
   "metadata": {},
   "outputs": [
    {
     "data": {
      "text/plain": [
       "['artificial intellege', 'machine learning', '\\\\sml\\\\s|\\\\.', '\\\\sai\\\\s|\\\\.']"
      ]
     },
     "execution_count": 6,
     "metadata": {},
     "output_type": "execute_result"
    }
   ],
   "source": [
    "data_cleaning.ai_keywords"
   ]
  },
  {
   "attachments": {},
   "cell_type": "markdown",
   "metadata": {},
   "source": [
    "Once I identified the companies with AI keywords, I went back to the tickers to find their market maps "
   ]
  },
  {
   "cell_type": "code",
   "execution_count": 10,
   "metadata": {},
   "outputs": [
    {
     "ename": "TypeError",
     "evalue": "get_market_cap() missing 1 required positional argument: 'ticker'",
     "output_type": "error",
     "traceback": [
      "\u001b[1;31m---------------------------------------------------------------------------\u001b[0m",
      "\u001b[1;31mTypeError\u001b[0m                                 Traceback (most recent call last)",
      "Cell \u001b[1;32mIn[10], line 5\u001b[0m\n\u001b[0;32m      1\u001b[0m descriptionDF[\u001b[39m\"\u001b[39m\u001b[39mAI_Company\u001b[39m\u001b[39m\"\u001b[39m] \u001b[39m=\u001b[39m descriptionDF[\u001b[39m\"\u001b[39m\u001b[39mDescription\u001b[39m\u001b[39m\"\u001b[39m]\u001b[39m.\u001b[39mmap(data_cleaning\u001b[39m.\u001b[39mmentions_ai)\n\u001b[0;32m      3\u001b[0m AI_Companies \u001b[39m=\u001b[39m descriptionDF\u001b[39m.\u001b[39mloc[descriptionDF[\u001b[39m\"\u001b[39m\u001b[39mAI_Company\u001b[39m\u001b[39m\"\u001b[39m ] \u001b[39m==\u001b[39m \u001b[39mTrue\u001b[39;00m]\n\u001b[1;32m----> 5\u001b[0m AI_Companies[\u001b[39m\"\u001b[39m\u001b[39mMarket_Cap\u001b[39m\u001b[39m\"\u001b[39m] \u001b[39m=\u001b[39m AI_Companies[\u001b[39m\"\u001b[39m\u001b[39mSymbol\u001b[39m\u001b[39m\"\u001b[39m]\u001b[39m.\u001b[39mmap(data_cleaning\u001b[39m.\u001b[39;49mget_market_cap(TickerObj\u001b[39m=\u001b[39;49mTickers))\n",
      "\u001b[1;31mTypeError\u001b[0m: get_market_cap() missing 1 required positional argument: 'ticker'"
     ]
    }
   ],
   "source": [
    "descriptionDF[\"AI_Company\"] = descriptionDF[\"Description\"].map(data_cleaning.mentions_ai)\n",
    "\n",
    "AI_Companies = descriptionDF.loc[descriptionDF[\"AI_Company\" ] == True]\n",
    "\n",
    "AI_Companies[\"Market_Cap\"] = AI_Companies[\"Symbol\"].map(data_cleaning.get_market_cap(TickerObj=Tickers))"
   ]
  },
  {
   "cell_type": "code",
   "execution_count": 8,
   "metadata": {},
   "outputs": [
    {
     "data": {
      "text/plain": [
       "1051973058560"
      ]
     },
     "execution_count": 8,
     "metadata": {},
     "output_type": "execute_result"
    }
   ],
   "source": [
    "Tickers.tickers[\"NVDA\"].info['marketCap']"
   ]
  },
  {
   "cell_type": "code",
   "execution_count": 9,
   "metadata": {},
   "outputs": [],
   "source": [
    "### Playground to be deleted \n",
    "\n",
    "\n",
    "# txt = ' we are an Artificial intellegence company '\n",
    "# txt2 = 'wewantml'\n",
    "# txt3 = 'we want ml,'\n",
    "\n",
    "# regexes =  [\"artificial intellege\",\"machine learning\", \"\\sml\\s|\\.\", \"\\sai\\s|\\.\" ]\n",
    "# # Make a regex that matches if any of our regexes match.\n",
    "\n",
    "# def replace_punct(s): \n",
    "#     punct = r\"[!\\\"#\\$%&\\'\\(\\)\\*\\+,\\./:;<=>\\?@\\[\\\\\\]\\^_`{\\|}~]\"\n",
    "#     return re.sub(punct, \" \", s)\n",
    "\n",
    "\n",
    "# def mentions_ai(description, keyword_list = regexes): \n",
    "#     # remove punctuation\n",
    "#     d = replace_punct(description)\n",
    "    \n",
    "#     # combine keywords \n",
    "#     combined = \"(\" + \")|(\".join(keyword_list) + \")\" \n",
    "    \n",
    "#     # search for keywords \n",
    "#     if re.search(combined, d, re.IGNORECASE):\n",
    "#         return True\n",
    "#     else: \n",
    "#         return False \n",
    "\n",
    "\n",
    "\n",
    "# print(mentions_ai(txt))\n",
    "# print(mentions_ai(txt2))\n",
    "# print(mentions_ai(txt3))\n"
   ]
  }
 ],
 "metadata": {
  "kernelspec": {
   "display_name": "base",
   "language": "python",
   "name": "python3"
  },
  "language_info": {
   "codemirror_mode": {
    "name": "ipython",
    "version": 3
   },
   "file_extension": ".py",
   "mimetype": "text/x-python",
   "name": "python",
   "nbconvert_exporter": "python",
   "pygments_lexer": "ipython3",
   "version": "3.10.9"
  },
  "orig_nbformat": 4
 },
 "nbformat": 4,
 "nbformat_minor": 2
}
