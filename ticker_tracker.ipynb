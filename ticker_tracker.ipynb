{
 "cells": [
  {
   "attachments": {},
   "cell_type": "markdown",
   "metadata": {},
   "source": [
    "## Table of Contents \n",
    "1. Movtivation \n",
    "2. Data Collection \n",
    "3. Data Cleaning \n",
    "4. Visualization "
   ]
  },
  {
   "attachments": {},
   "cell_type": "markdown",
   "metadata": {},
   "source": [
    "## Motivation \n",
    "\n",
    "This is a showcase of my abilities of designing and convieving an end-to-end data visualization "
   ]
  },
  {
   "attachments": {},
   "cell_type": "markdown",
   "metadata": {},
   "source": [
    "As in any project, first and foremost is using the right tools "
   ]
  },
  {
   "cell_type": "code",
   "execution_count": 1,
   "metadata": {},
   "outputs": [],
   "source": [
    "import pandas as pd \n",
    "import yfinance as yf \n",
    "import yahooquery as yq\n",
    "import data_cleaning \n",
    "import matplotlib.pyplot as plt\n",
    "import packed_bubbles\n",
    "import matplotlib.colors\n",
    "import numpy as np"
   ]
  },
  {
   "attachments": {},
   "cell_type": "markdown",
   "metadata": {},
   "source": [
    "### Data Collection\n",
    "\n",
    "First I wanted to find any all stocks related to AI, I began by using sceeners from Yahoo! Finance, relating to Inforation Technology Services, Most Visited Technology and a Market Scan for Technology"
   ]
  },
  {
   "cell_type": "code",
   "execution_count": 2,
   "metadata": {},
   "outputs": [],
   "source": [
    "techSceener = yq.Screener()\n",
    "raw_data = techSceener.get_screeners(['information_technology_services', 'most_visited_technology', 'ms_technology'])"
   ]
  },
  {
   "attachments": {},
   "cell_type": "markdown",
   "metadata": {},
   "source": [
    "I then processed the raw data from the scanners to extract the tickers related to those scanners. "
   ]
  },
  {
   "cell_type": "code",
   "execution_count": 3,
   "metadata": {},
   "outputs": [
    {
     "data": {
      "text/plain": [
       "['ZI', 'EXLS', 'FICO', 'BR', 'GLOB', 'TRMB', 'LRCX', 'SAIC', 'SWKS', 'INFY']"
      ]
     },
     "execution_count": 3,
     "metadata": {},
     "output_type": "execute_result"
    }
   ],
   "source": [
    "tech_tickers = data_cleaning.find_tickers(raw_data)\n",
    "tech_tickers[0:10]"
   ]
  },
  {
   "attachments": {},
   "cell_type": "markdown",
   "metadata": {},
   "source": [
    "Next I used the tickers from the Scanners and gathered the business descriptions data."
   ]
  },
  {
   "cell_type": "code",
   "execution_count": 4,
   "metadata": {},
   "outputs": [],
   "source": [
    "\n",
    "Tickers = yf.Tickers(tech_tickers)\n",
    "\n",
    "descriptionDF = data_cleaning.get_ticker_descrition(Tickers)"
   ]
  },
  {
   "cell_type": "code",
   "execution_count": 5,
   "metadata": {},
   "outputs": [
    {
     "data": {
      "text/html": [
       "<div>\n",
       "<style scoped>\n",
       "    .dataframe tbody tr th:only-of-type {\n",
       "        vertical-align: middle;\n",
       "    }\n",
       "\n",
       "    .dataframe tbody tr th {\n",
       "        vertical-align: top;\n",
       "    }\n",
       "\n",
       "    .dataframe thead th {\n",
       "        text-align: right;\n",
       "    }\n",
       "</style>\n",
       "<table border=\"1\" class=\"dataframe\">\n",
       "  <thead>\n",
       "    <tr style=\"text-align: right;\">\n",
       "      <th></th>\n",
       "      <th>Symbol</th>\n",
       "      <th>Description</th>\n",
       "    </tr>\n",
       "  </thead>\n",
       "  <tbody>\n",
       "    <tr>\n",
       "      <th>0</th>\n",
       "      <td>ZI</td>\n",
       "      <td>ZoomInfo Technologies Inc., through its subsid...</td>\n",
       "    </tr>\n",
       "    <tr>\n",
       "      <th>1</th>\n",
       "      <td>EXLS</td>\n",
       "      <td>ExlService Holdings, Inc. operates as a data a...</td>\n",
       "    </tr>\n",
       "    <tr>\n",
       "      <th>2</th>\n",
       "      <td>FICO</td>\n",
       "      <td>Fair Isaac Corporation develops analytic, soft...</td>\n",
       "    </tr>\n",
       "    <tr>\n",
       "      <th>3</th>\n",
       "      <td>BR</td>\n",
       "      <td>Broadridge Financial Solutions, Inc. provides ...</td>\n",
       "    </tr>\n",
       "    <tr>\n",
       "      <th>4</th>\n",
       "      <td>GLOB</td>\n",
       "      <td>Globant S.A. operates as a technology services...</td>\n",
       "    </tr>\n",
       "    <tr>\n",
       "      <th>...</th>\n",
       "      <td>...</td>\n",
       "      <td>...</td>\n",
       "    </tr>\n",
       "    <tr>\n",
       "      <th>62</th>\n",
       "      <td>NOW</td>\n",
       "      <td>ServiceNow, Inc. provides enterprise cloud com...</td>\n",
       "    </tr>\n",
       "    <tr>\n",
       "      <th>63</th>\n",
       "      <td>EPAM</td>\n",
       "      <td>EPAM Systems, Inc. provides digital platform e...</td>\n",
       "    </tr>\n",
       "    <tr>\n",
       "      <th>64</th>\n",
       "      <td>INTC</td>\n",
       "      <td>Intel Corporation designs, develops, manufactu...</td>\n",
       "    </tr>\n",
       "    <tr>\n",
       "      <th>65</th>\n",
       "      <td>IBM</td>\n",
       "      <td>International Business Machines Corporation, t...</td>\n",
       "    </tr>\n",
       "    <tr>\n",
       "      <th>66</th>\n",
       "      <td>LDOS</td>\n",
       "      <td>Leidos Holdings, Inc., together with its subsi...</td>\n",
       "    </tr>\n",
       "  </tbody>\n",
       "</table>\n",
       "<p>67 rows × 2 columns</p>\n",
       "</div>"
      ],
      "text/plain": [
       "   Symbol                                        Description\n",
       "0      ZI  ZoomInfo Technologies Inc., through its subsid...\n",
       "1    EXLS  ExlService Holdings, Inc. operates as a data a...\n",
       "2    FICO  Fair Isaac Corporation develops analytic, soft...\n",
       "3      BR  Broadridge Financial Solutions, Inc. provides ...\n",
       "4    GLOB  Globant S.A. operates as a technology services...\n",
       "..    ...                                                ...\n",
       "62    NOW  ServiceNow, Inc. provides enterprise cloud com...\n",
       "63   EPAM  EPAM Systems, Inc. provides digital platform e...\n",
       "64   INTC  Intel Corporation designs, develops, manufactu...\n",
       "65    IBM  International Business Machines Corporation, t...\n",
       "66   LDOS  Leidos Holdings, Inc., together with its subsi...\n",
       "\n",
       "[67 rows x 2 columns]"
      ]
     },
     "execution_count": 5,
     "metadata": {},
     "output_type": "execute_result"
    }
   ],
   "source": [
    "descriptionDF"
   ]
  },
  {
   "attachments": {},
   "cell_type": "markdown",
   "metadata": {},
   "source": [
    "In my initial investigation I used the following keywords to determine if a company is an AI company."
   ]
  },
  {
   "cell_type": "code",
   "execution_count": 6,
   "metadata": {},
   "outputs": [
    {
     "data": {
      "text/plain": [
       "['artificial intellege', 'machine learning', '\\\\sml\\\\s|\\\\.', '\\\\sai\\\\s|\\\\.']"
      ]
     },
     "execution_count": 6,
     "metadata": {},
     "output_type": "execute_result"
    }
   ],
   "source": [
    "data_cleaning.ai_keywords"
   ]
  },
  {
   "attachments": {},
   "cell_type": "markdown",
   "metadata": {},
   "source": [
    "Once I identified the companies with AI keywords, I went back to the tickers to find their market maps "
   ]
  },
  {
   "cell_type": "code",
   "execution_count": 7,
   "metadata": {},
   "outputs": [
    {
     "name": "stderr",
     "output_type": "stream",
     "text": [
      "C:\\Users\\leona.odole\\AppData\\Local\\Temp\\ipykernel_20420\\962466737.py:6: SettingWithCopyWarning: \n",
      "A value is trying to be set on a copy of a slice from a DataFrame.\n",
      "Try using .loc[row_indexer,col_indexer] = value instead\n",
      "\n",
      "See the caveats in the documentation: https://pandas.pydata.org/pandas-docs/stable/user_guide/indexing.html#returning-a-view-versus-a-copy\n",
      "  AI_Companies[\"Market_Cap\"] = AI_Companies[\"Symbol\"].apply(data_cleaning.get_market_cap, args=(Tickers,))\n"
     ]
    }
   ],
   "source": [
    "descriptionDF[\"AI_Company\"] = descriptionDF[\"Description\"].map(data_cleaning.mentions_ai)\n",
    "\n",
    "AI_Companies = descriptionDF.loc[descriptionDF[\"AI_Company\" ] == True]\n",
    "\n",
    "\n",
    "AI_Companies[\"Market_Cap\"] = AI_Companies[\"Symbol\"].apply(data_cleaning.get_market_cap, args=(Tickers,))"
   ]
  },
  {
   "attachments": {},
   "cell_type": "markdown",
   "metadata": {},
   "source": [
    "After Capturing and Cleaning all of the data, I can finally start the visualization. "
   ]
  },
  {
   "cell_type": "code",
   "execution_count": null,
   "metadata": {},
   "outputs": [],
   "source": []
  },
  {
   "cell_type": "code",
   "execution_count": 8,
   "metadata": {},
   "outputs": [],
   "source": [
    "# mc_millions = AI_Companies[\"Market_Cap\"].map(lambda x: x / 1000000)\n",
    "# bubbles = packed_bubbles.BubbleChart(area=AI_Companies.loc[:,\"Market_Cap\"],bubble_spacing=0.1 )\n",
    "# bubbles.collapse() \n",
    "\n",
    "# fig, ax = plt.subplots(subplot_kw=dict(aspect=\"equal\"))\n",
    "# cmap = plt.get_cmap(\"Pastel1\")\n",
    "# colors = cmap(np.linspace(0,1,len(AI_Companies.index)))\n",
    "# sym = AI_Companies.loc[:,\"Symbol\"].values\n",
    "\n",
    "\n",
    "# bubbles.plot(ax, sym, colors)\n",
    "\n",
    "# ### Have the problem that its being rendered to largely "
   ]
  },
  {
   "cell_type": "code",
   "execution_count": 16,
   "metadata": {},
   "outputs": [
    {
     "data": {
      "text/plain": [
       "[(0.0, 22.0), (0.0, 22.0)]"
      ]
     },
     "execution_count": 16,
     "metadata": {},
     "output_type": "execute_result"
    },
    {
     "data": {
      "image/png": "[encoded data removed]",
      "text/plain": [
       "<Figure size 200x200 with 1 Axes>"
      ]
     },
     "metadata": {},
     "output_type": "display_data"
    }
   ],
   "source": [
    "plt.style.use('_mpl-gallery-nogrid')\n",
    "colors = plt.get_cmap('viridis')(np.linspace(0,1,len(AI_Companies[\"Market_Cap\"])))\n",
    "fig,ax = plt.subplots()\n",
    "ax.pie(AI_Companies[\"Market_Cap\"], colors=colors, radius = 10, center = (11,11), labels=AI_Companies[\"Symbol\"],\n",
    "       wedgeprops={\"linewidth\": 1, \"edgecolor\": \"white\"}, frame=True)\n",
    "\n",
    "ax.set(xlim=(0,22),ylim=(0,22) )"
   ]
  },
  {
   "cell_type": "code",
   "execution_count": null,
   "metadata": {},
   "outputs": [],
   "source": [
    "### Playground to be deleted \n",
    "\n",
    "\n",
    "# txt = ' we are an Artificial intellegence company '\n",
    "# txt2 = 'wewantml'\n",
    "# txt3 = 'we want ml,'\n",
    "\n",
    "# regexes =  [\"artificial intellege\",\"machine learning\", \"\\sml\\s|\\.\", \"\\sai\\s|\\.\" ]\n",
    "# # Make a regex that matches if any of our regexes match.\n",
    "\n",
    "# def replace_punct(s): \n",
    "#     punct = r\"[!\\\"#\\$%&\\'\\(\\)\\*\\+,\\./:;<=>\\?@\\[\\\\\\]\\^_`{\\|}~]\"\n",
    "#     return re.sub(punct, \" \", s)\n",
    "\n",
    "\n",
    "# def mentions_ai(description, keyword_list = regexes): \n",
    "#     # remove punctuation\n",
    "#     d = replace_punct(description)\n",
    "    \n",
    "#     # combine keywords \n",
    "#     combined = \"(\" + \")|(\".join(keyword_list) + \")\" \n",
    "    \n",
    "#     # search for keywords \n",
    "#     if re.search(combined, d, re.IGNORECASE):\n",
    "#         return True\n",
    "#     else: \n",
    "#         return False \n",
    "\n",
    "\n",
    "\n",
    "# print(mentions_ai(txt))\n",
    "# print(mentions_ai(txt2))\n",
    "# print(mentions_ai(txt3))\n"
   ]
  }
 ],
 "metadata": {
  "kernelspec": {
   "display_name": "base",
   "language": "python",
   "name": "python3"
  },
  "language_info": {
   "codemirror_mode": {
    "name": "ipython",
    "version": 3
   },
   "file_extension": ".py",
   "mimetype": "text/x-python",
   "name": "python",
   "nbconvert_exporter": "python",
   "pygments_lexer": "ipython3",
   "version": "3.10.9"
  },
  "orig_nbformat": 4
 },
 "nbformat": 4,
 "nbformat_minor": 2
}
